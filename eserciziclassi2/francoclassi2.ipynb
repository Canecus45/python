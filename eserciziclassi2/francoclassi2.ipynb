{
  "nbformat": 4,
  "nbformat_minor": 0,
  "metadata": {
    "colab": {
      "provenance": []
    },
    "kernelspec": {
      "display_name": "Python 3",
      "language": "python",
      "name": "python3"
    },
    "language_info": {
      "codemirror_mode": {
        "name": "ipython",
        "version": 3
      },
      "file_extension": ".py",
      "mimetype": "text/x-python",
      "name": "python",
      "nbconvert_exporter": "python",
      "pygments_lexer": "ipython3",
      "version": "3.5.2"
    }
  },
  "cells": [
    {
      "cell_type": "markdown",
      "metadata": {
        "id": "wflZvedQCLBJ"
      },
      "source": [
        "# Esercizi con le Classi #3"
      ]
    },
    {
      "cell_type": "markdown",
      "metadata": {
        "id": "l5o6E7DpydWL"
      },
      "source": [
        "##1.Pagelle 2\n",
        "\n",
        "Creare la classe Tabellone per contenere una serie di pagelle. Usare la classe Pagella creata in Pagelle 1(il notebook precedente)\n",
        "\n",
        "\n",
        "```\n",
        "function Tabellone(){\n",
        "this.pagelle = new Array(); //array di oggetti pagella\n",
        "this.push = function (pagella); //inserisce una pagella di uno studente\n",
        "this.pop = function (studente); //estrae la pagella di uno studente\n",
        "this.cercaPagella = function (studente); //verifica se la pagella di uno studente è presente e restituisce l'indice, -1 se non è presente\n",
        "this.tutto = function (); //restituisce il tabellone, cioè l'array di pagelle in forma di stringa\n",
        "}\n",
        "```\n",
        "La classe Tabellone al posto del metodo tutto() implementa il dunder method [__repr__(self)](https://www.pythontutorial.net/python-oop/python-__repr__/) che con l'istruzione print(tabellone) restituirà una stringa ottenuta concatenando le tuple di tutte le materie di tutti gli studenti.<br>\n",
        "\n",
        "\n",
        "Testare il codice verificando ogni metodo. <br>\n",
        "Invece di far inserire i dati all'utente, sostituire il metodo popola della classe Pagella con quello fornito sotto. Non importa che le pagelle siano tutte uguali.\n"
      ]
    },
    {
      "cell_type": "code",
      "source": [
        "# metodo popola per la classe Pagella\n",
        "def popola(self):\n",
        "    self.pagella.append((\"ITALIANO\",8,5))\n",
        "    self.pagella.append((\"STORIA\",8,4))\n",
        "    self.pagella.append((\"MATEMATICA\",10,3))\n",
        "    self.pagella.append((\"LINGUA INGLESE\",9,0))\n",
        "    self.pagella.append((\"TELECOMUNICAZIONI\",10,7))\n",
        "    self.pagella.append((\"INFORMATICA\",5,0))\n",
        "    self.pagella.append((\"SISTEMI E RETI\",5,0))\n",
        "    self.pagella.append((\"TECN. PROG. SIST. I.\",4,0))\n",
        "    self.pagella.append((\"SCIENZE MOTORIE E SP\",6,0))"
      ],
      "metadata": {
        "id": "t8zGDbb70v0V"
      },
      "execution_count": null,
      "outputs": []
    },
    {
      "cell_type": "code",
      "source": [
        "#ripasso metodi append e pop delle liste\n",
        "fruits = ['apple', 'banana', 'cherry']\n",
        "fruits.append('lemon')\n",
        "print(fruits.pop(1))\n",
        "print(fruits)"
      ],
      "metadata": {
        "id": "tX51GVQb0b69",
        "outputId": "afc1d0c7-178e-45fa-b1f6-2c1edbf3cdf3",
        "colab": {
          "base_uri": "https://localhost:8080/"
        }
      },
      "execution_count": null,
      "outputs": [
        {
          "output_type": "stream",
          "name": "stdout",
          "text": [
            "banana\n",
            "['apple', 'cherry', 'lemon']\n"
          ]
        }
      ]
    },
    {
      "cell_type": "code",
      "metadata": {
        "id": "KgUia80Mey9l"
      },
      "source": [
        "# Inserire la classe pagella\n",
        "\n",
        "# Completare i metodi che al momento sono vuoti(pass)\n",
        "class Tabellone:\n",
        "  def __init__(self):\n",
        "    pass\n",
        "  def push(self,pagella):\n",
        "    pass\n",
        "  def pop(self,studente):\n",
        "    pass\n",
        "  def cercaPagella(self,studente):\n",
        "    pass\n",
        "  def __repr__(self):\n",
        "    pass\n",
        "\n",
        "# Codice di esempio per l'output\n",
        "tabellone=Tabellone()\n",
        "pagella1=Pagella(\"NOME_1\")\n",
        "pagella1.popola()\n",
        "tabellone.push(pagella1)\n",
        "pagella2=Pagella(\"NOME_2\")\n",
        "pagella2.popola()\n",
        "tabellone.push(pagella2)\n",
        "print(tabellone) #esegue il metodo __repr__(self)"
      ],
      "execution_count": null,
      "outputs": []
    },
    {
      "cell_type": "markdown",
      "source": [
        "\n",
        "Output di esempio:<br>\n",
        "Pagella di Gianluca:<br>\n",
        "ITALIANO=8,ore assenza: 5<br>\n",
        "STORIA=8,ore assenza: 4<br>\n",
        "MATEMATICA=10,ore assenza: 3<br>\n",
        "LINGUA INGLESE=9,ore assenza: 0<br>\n",
        "TELECOMUNICAZIONI=10,ore assenza: 0<br>\n",
        "INFORMATICA=5,ore assenza: 0<br>\n",
        "SISTEMI E RETI=10,ore assenza: 0<br>\n",
        "TECN. PROG. SIST. I.=4,ore assenza: 0<br>\n",
        "SCIENZE MOTORIE E SP=6,ore assenza: 0<br>\n",
        "<br>\n",
        "Pagella di Matteo:<br>\n",
        "ITALIANO=8,ore assenza: 5<br>\n",
        "STORIA=8,ore assenza: 4<br>\n",
        "MATEMATICA=10,ore assenza: 3<br>\n",
        "LINGUA INGLESE=9,ore assenza: 0<br>\n",
        "TELECOMUNICAZIONI=10,ore assenza: 0<br>\n",
        "INFORMATICA=5,ore assenza: 0<br>\n",
        "SISTEMI E RETI=10,ore assenza: 0<br>\n",
        "TECN. PROG. SIST. I.=4,ore assenza: 0<br>\n",
        "SCIENZE MOTORIE E SP=6,ore assenza: 0<br>"
      ],
      "metadata": {
        "id": "telt7NhU2N0G"
      }
    }
  ]
}