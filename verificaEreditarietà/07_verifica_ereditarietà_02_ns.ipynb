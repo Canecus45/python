{
  "nbformat": 4,
  "nbformat_minor": 0,
  "metadata": {
    "colab": {
      "provenance": []
    },
    "kernelspec": {
      "name": "python3",
      "display_name": "Python 3"
    },
    "language_info": {
      "name": "python"
    }
  },
  "cells": [
    {
      "cell_type": "markdown",
      "source": [
        "# Gestione prestito di libri e dvd di una libreria\n",
        "Un'applicazione web deve essere in grado di gestire le prenotazioni di libri e dvd da parte dei clienti. I libri e dvd possono essere disponibili in quantità diverse e possono essere prenotati per un determinato periodo di tempo.<br>\n",
        "Una prenotazione è composta da una lista di articoli che possono riguardare diverse quantità di libri e dvd (es. 3 libri, 2 dvd).\n",
        "La libreria deve gestire una lista di prenotazioni\n",
        "\n",
        "Gli amministratori della biblioteca vogliono poter conoscere:\n",
        "\n",
        "a - Per **una** prenotazione: a.1) il numero di articoli prenotati e a.2) l'importo totale senza distinguere il tipo di articolo.<br>\n",
        "b - Per **una** prenotazione: b.1) il dettaglio degli articoli, b.2) l'importo dei libri, b.3) l'importo dei dvd, b.4) l'importo totale.<br>\n",
        "c - Per **tutte** le prenotazioni della biblioteca c.1)il dettaglio degli articoli, c.2) l'importo dei libri, c.3) l'importo dei dvd, c.4) l'importo totale..\n",
        "\n",
        "\n",
        "\n",
        "### Definire una classe base Articolo (dalla quale derivare le classi Libro, Dvd)\n",
        "Definire una classe Prenotazione, che conterrà una lista di oggetti di tipo Libro, Dvd\n",
        "\n",
        "Definire una classe Biblioteca, che conterrà una lista di oggetti di tipo Prenotazione.\n",
        "\n",
        "Implementare i diversi metodi indicati\n",
        "\n"
      ],
      "metadata": {
        "id": "AQZ3EdiHv43l"
      }
    },
    {
      "cell_type": "code",
      "source": [
        "class Articolo:\n",
        "    #1 Implementa il costruttore\n",
        "    def __init__(self, titolo, prezzo_giornaliero):\n",
        "      pass\n",
        "    def scheda_articolo(self):\n",
        "      #2 Ritorna una stringa contenente gli attributi dell'articolo\n",
        "      pass\n",
        "\n",
        "    def modifica_scheda(self):\n",
        "      #3 Permette di modificare gli attributi dell'articolo\n",
        "      pass\n",
        "\n",
        "\n"
      ],
      "metadata": {
        "id": "yhIaJdEBw08f"
      },
      "execution_count": null,
      "outputs": []
    },
    {
      "cell_type": "code",
      "source": [
        "class Libro(Articolo):\n",
        "    def __init__(self, titolo, prezzo_giornaliero, autore):\n",
        "      #4 Implementa il costruttore\n",
        "      pass\n",
        "\n",
        "    def scheda_articolo(self):\n",
        "      #5 Ritorna una stringa contenente gli attributi del libro\n",
        "      pass\n",
        "\n",
        "    def modifica_scheda(self):\n",
        "      #6 Permette di modificare gli attributi del libro\n",
        "      pass\n",
        "\n"
      ],
      "metadata": {
        "id": "nLvnHgIbDOOB"
      },
      "execution_count": null,
      "outputs": []
    },
    {
      "cell_type": "code",
      "source": [
        "class DVD(Articolo):\n",
        "    def __init__(self, titolo, prezzo_giornaliero, regista):\n",
        "      #7 Implementa il costruttore\n",
        "      pass\n",
        "\n",
        "    def scheda_articolo(self):\n",
        "      #8 Ritorna una stringa contenente gli attributi del DVD\n",
        "      pass\n",
        "\n",
        "    def modifica_scheda(self):\n",
        "      #9 Permette di modificare gli attributi del DVD\n",
        "      pass\n",
        "\n"
      ],
      "metadata": {
        "id": "Q2tc8FamDScQ"
      },
      "execution_count": null,
      "outputs": []
    },
    {
      "cell_type": "code",
      "source": [
        "class Prenotazione:\n",
        "    def __init__(self):\n",
        "      self.articoli=[]\n",
        "\n",
        "    #10 Aggiunge una tupla alla lista di articoli\n",
        "    def aggiungi_articolo(self, articolo, quantita, giorni):\n",
        "      pass\n",
        "\n",
        "    #11 - Per una prenotazione: a.1) il numero di articoli prenotati e a.2) l'importo totale senza distinguere il tipo di articolo.\n",
        "    #Restituisce una stringa con numero di articoli e totale\n",
        "    def totale_prenotazione(self):\n",
        "      pass\n",
        "\n",
        "    #12 - Per una prenotazione: b.1) il dettaglio degli articoli, b.2) l'importo dei libri, b.3) l'importo dei dvd, b.4) l'importo totale.\n",
        "    # stampa una stringa con il totale e i totali parziali per libri e dvd\n",
        "    def dettaglio_prenotazione(self):\n",
        "      pass\n",
        "\n"
      ],
      "metadata": {
        "id": "eN3_xWrHDWbS"
      },
      "execution_count": null,
      "outputs": []
    },
    {
      "cell_type": "code",
      "source": [
        "class Biblioteca:\n",
        "    def __init__(self):\n",
        "        self.prenotazioni = []\n",
        "    #13 implementa il metodo\n",
        "    def aggiungi_prenotazione(self, prenotazione):\n",
        "        pass\n",
        "\n",
        "    #14 - Per tutte le prenotazioni della biblioteca c.1)il dettaglio degli articoli, c.2) l'importo dei libri, c.3) l'importo dei dvd, c.4) l'importo totale..\n",
        "    # Restituisce una stringa con importo tatola biblioteca, importo libri e importo dvd\n",
        "    def dettaglio_prenotazioni(self):\n",
        "      pass"
      ],
      "metadata": {
        "id": "8_RJTQDEDaC3"
      },
      "execution_count": null,
      "outputs": []
    },
    {
      "cell_type": "code",
      "source": [
        "# Creazione degli oggetti libro e dvd\n",
        "libro1 = Libro(\"Il nome della rosa\", 2, \"Umberto Eco\")\n",
        "libro2 = Libro(\"1984\", 4, \"George Orwell\")\n",
        "libro3 = Libro(\"Python\", 4, \"Autori vari\")\n",
        "dvd1 = DVD(\"Il Padrino\", 3, \"Francis Ford Coppola\")\n",
        "dvd2 = DVD(\"La vita è bella\", 3, \"Roberto Benigni\")\n",
        "dvd3 = DVD(\"Pulp fiction\", 3, \"Quentin Tarantino\")\n",
        "\n",
        "#NB. ANCHE SE NON INDICATI NELL'OUTPUT DI ESEMPIO\n",
        "# Testare anche i metodi scheda_articolo e modifica_scheda\n",
        "\n",
        "\n",
        "prenotazione1 = Prenotazione()\n",
        "prenotazione1.aggiungi_articolo(libro1, 2,10)\n",
        "prenotazione1.aggiungi_articolo(dvd1, 1,3)\n",
        "print(\"\\n1. Importo totale per la prenotazione 1:\")\n",
        "print(prenotazione1.totale_prenotazione())\n",
        "print(\"\\n2. Dettaglio degli articoli, importo totale, importo dei libri, importo dei dvd per la prenotazione 1:\")\n",
        "prenotazione1.dettaglio_prenotazione()\n",
        "\n",
        "\n",
        "prenotazione2 = Prenotazione()\n",
        "prenotazione2.aggiungi_articolo(libro2, 1,7)\n",
        "prenotazione2.aggiungi_articolo(dvd2, 1,7)\n",
        "\n",
        "prenotazione3 = Prenotazione()\n",
        "prenotazione3.aggiungi_articolo(dvd3, 2,7)\n",
        "prenotazione3.aggiungi_articolo(libro3, 2,8)\n",
        "\n",
        "biblioteca = Biblioteca()\n",
        "biblioteca.aggiungi_prenotazione(prenotazione1)\n",
        "biblioteca.aggiungi_prenotazione(prenotazione2)\n",
        "biblioteca.aggiungi_prenotazione(prenotazione3)\n",
        "print(\"\\n3. Dettaglio degli articoli, importo totale, importo dei libri, importo dei dvd per tutte le prenotazioni:\")\n",
        "print(biblioteca.dettaglio_prenotazioni())\n"
      ],
      "metadata": {
        "colab": {
          "base_uri": "https://localhost:8080/"
        },
        "id": "Cm9lDxWmrVRa",
        "outputId": "009f57fb-f8e4-4ffd-f87e-ee4684962efa"
      },
      "execution_count": null,
      "outputs": [
        {
          "output_type": "stream",
          "name": "stdout",
          "text": [
            "\n",
            "1. Importo totale per la prenotazione 1:\n",
            "Numero di articoli 2,  importo_totale = 49\n",
            "\n",
            "2. Dettaglio degli articoli, importo totale, importo dei libri, importo dei dvd per la prenotazione 1:\n",
            "Dettaglio prenotazione:\n",
            "Il nome della rosa di Umberto Eco - 2 copie per 10 giorni - importo: 40 euro\n",
            "Il Padrino di Francis Ford Coppola - 1 copie per 3 giorni - importo: 9 euro\n",
            "Totale prenotazione: 49 euro di cui per i libri 40 e per i dvd 9 \n",
            "\n",
            "\n",
            "3. Dettaglio degli articoli, importo totale, importo dei libri, importo dei dvd per tutte le prenotazioni:\n",
            "Dettaglio prenotazione:\n",
            "Il nome della rosa di Umberto Eco - 2 copie per 10 giorni - importo: 40 euro\n",
            "Il Padrino di Francis Ford Coppola - 1 copie per 3 giorni - importo: 9 euro\n",
            "Totale prenotazione: 49 euro di cui per i libri 40 e per i dvd 9 \n",
            "\n",
            "Dettaglio prenotazione:\n",
            "1984 di George Orwell - 1 copie per 7 giorni - importo: 28 euro\n",
            "La vita è bella di Roberto Benigni - 1 copie per 7 giorni - importo: 21 euro\n",
            "Totale prenotazione: 49 euro di cui per i libri 28 e per i dvd 21 \n",
            "\n",
            "Dettaglio prenotazione:\n",
            "Pulp fiction di Quentin Tarantino - 2 copie per 7 giorni - importo: 42 euro\n",
            "Python di Autori vari - 2 copie per 8 giorni - importo: 64 euro\n",
            "Totale prenotazione: 106 euro di cui per i libri 64 e per i dvd 42 \n",
            "\n",
            "Importo totale biblioteca: 204, Importo Libri: 132,Importo DVD: 72, \n"
          ]
        }
      ]
    }
  ]
}