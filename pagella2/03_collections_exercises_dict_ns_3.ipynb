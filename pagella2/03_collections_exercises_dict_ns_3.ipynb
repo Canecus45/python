{
  "nbformat": 4,
  "nbformat_minor": 0,
  "metadata": {
    "colab": {
      "provenance": []
    },
    "kernelspec": {
      "name": "python3",
      "display_name": "Python 3"
    },
    "language_info": {
      "name": "python"
    }
  },
  "cells": [
    {
      "cell_type": "markdown",
      "source": [
        "## 1. Pagelle scolastiche #2\n",
        "Creiamo una struttura dati in grado di contenere la registrazione dei voti di diversi studenti nel primo e nel secondo quadrimestre. La struttura sarà composta da un dizionario, avente come chiave il nome dello studente e come valore una lista di tuple. Ogni tupla rappresenta i dati relativi ad una materia, nel primo e nel secondo quadrimestre. Per ogni materie si deve nella prima posizione della tupla il nome, nella seconda posizione una tupla contenente il voto e le ore di assenza nel primo quadrimestre, nella terza posizione una tupla contenente il voto e le ore di assenza nel secondo quadrimestre.\n"
      ],
      "metadata": {
        "id": "9nHdhW-oSOhw"
      }
    },
    {
      "cell_type": "code",
      "source": [
        "# Inizializza la struttura dati\n",
        "pagella = {\n",
        "    \"studente1\": [\n",
        "        (\"Matematica\", (7, 2), (8, 1)),\n",
        "        (\"Italiano\", (6, 3), (7, 2)),\n",
        "        (\"Inglese\", (8, 1), (9, 0)),\n",
        "    ],\n",
        "    # Aggiungi altri studenti e relative materie...\n",
        "}\n"
      ],
      "metadata": {
        "id": "0oivTxqMYejg"
      },
      "execution_count": null,
      "outputs": []
    },
    {
      "cell_type": "markdown",
      "source": [
        "\n",
        "1. Popola la struttura dati con i dati qui sopra.\n",
        "2. Aggiungi alla struttura dati la pagella di un nuovo studente chiamato Albert Einstein, con 10 in tutte le materie e nessuna ora di assenza.\n",
        "3. Aggiungi Fisica a tutte le pagelle\n",
        "4. Stampa i dati sulla materia Matematica per un dato studente nel primo quadrimestre\n",
        "5. Stampa i dati su una data materia e un dato studente nel secondo quadrimestre\n",
        "6. Stampa la materia in cui ha fatto più assenze un dato studente.\n",
        "7. Stampa il voto minimo e la materia (o materie) per un dato studente nel secondo quadrimestre\n",
        "8. Stampa il voto massimo e la materia (o materie) per un dato studente indipendentemente dal quadrimestre, specificando se il voto è stato conseguito nel primo o nel secondo periodo\n",
        "9. Stampa la media di tutte le materie nel primo quadrimestre per un dato studente\n",
        "10. Stampa la media di tutti i voti senza distinguere gli studenti.\n",
        "\n"
      ],
      "metadata": {
        "id": "W7eLyDlMZwgH"
      }
    },
    {
      "cell_type": "code",
      "source": [],
      "metadata": {
        "id": "9mtC_pdGZwAA"
      },
      "execution_count": null,
      "outputs": []
    }
  ]
}