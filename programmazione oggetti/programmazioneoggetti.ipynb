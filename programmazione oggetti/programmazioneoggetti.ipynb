{
 "cells": [
  {
   "cell_type": "markdown",
   "metadata": {},
   "source": [
    "# **La Programmazione ad Oggetti**\n",
    "La programmazione ad oggetti (OOP - Object Oriented Programming) è un paradigma di programazione che si basa sull'organizzare i dati in oggetti e manipolarli unicamente tramite i metodi esposti da essi. Mentre nella programmazione procedurale (tradizionale) occore definire le proprietà di ogni oggetto, nella programmazione OOP si crea una classe con le proprietà e si associano gli oggtti alla classe. In questo modo si evita di scriverle per ogni oggetto."
   ]
  },
  {
   "cell_type": "markdown",
   "metadata": {},
   "source": [
    "## Le classi\n",
    "Per creare un oggetto dobbiamo definire una classe che lo rappresenterà, le funzioni definite all'interno della classe sono metodi della classe. Ad esempio, creaiamo una classe che rappresenterà un triangolo, i cui metodi ci permettono di calcorarne area e perimetro."
   ]
  },
  {
   "cell_type": "code",
   "execution_count": null,
   "metadata": {},
   "outputs": [],
   "source": [
    "class Triangle:\n",
    "    def area(self, b, h):\n",
    "        return b * h / 2.0\n",
    "\n",
    "    def perimeter(self, a, b, c):\n",
    "        return a + b + c"
   ]
  },
  {
   "cell_type": "markdown",
   "metadata": {},
   "source": [
    "Come puoi vedere ogni metodo della classe ha come primo parametro self, questo ci permette di identificare attribbuti e metodi all'interno della classe stessa, equivalente di this in uso in altri linguaggi. Concettualmente un'oggetto è un istanza di una classe. Instanziamo la classe Triangle per creare l'oggetto e usiamo i suoi metodi."
   ]
  },
  {
   "cell_type": "code",
   "execution_count": null,
   "metadata": {},
   "outputs": [
    {
     "ename": "",
     "evalue": "",
     "output_type": "error",
     "traceback": [
      "\u001b[1;31mRunning cells with 'c:\\Users\\utente\\AppData\\Local\\Programs\\Python\\Python38\\python.exe' requires the ipykernel package.\n",
      "\u001b[1;31mRun the following command to install 'ipykernel' into the Python environment. \n",
      "\u001b[1;31mCommand: 'c:/Users/utente/AppData/Local/Programs/Python/Python38/python.exe -m pip install ipykernel -U --user --force-reinstall'"
     ]
    }
   ],
   "source": [
    "triangle=Triangle() # istanziamo la classe\n",
    "\n",
    "print(f\"Area del triangolo: {triangle.area(3.,4.)}\")\n",
    "print(f\"Perimetro del triangolo: {triangle.perimeter(5,3,5)}\")\n",
    "\n",
    "#il putno serve per dire che non ha cifre dopo"
   ]
  },
  {
   "cell_type": "markdown",
   "metadata": {},
   "source": [
    "Per calcolare area e perimetr odobbiamo passare di volta in volta le informazioni sulle misure di base, altezze e lati del triangolo, che funziona ma è concettualmente sbagliato, un'oggetto deve contenere le proprie informazioni al suo interno in apposite variabili chiamate attributi. Possiamo definire gli attributi della classe all'interno di un metodo costruttore che in pyton è l'int"
   ]
  },
  {
   "cell_type": "code",
   "execution_count": null,
   "metadata": {},
   "outputs": [],
   "source": [
    "class Triangle:\n",
    "\n",
    "    def __init__(self, a, b, c, h) -> None:\n",
    "        # questa istruzione è equivalente a qeulla sotto (3 lati + altezza)\n",
    "        # self.a,self.b,self.c,self.h,=a,b,c,h\n",
    "        self.a = a\n",
    "        self.b = b\n",
    "        self.c = c\n",
    "        self.h = h\n",
    "\n",
    "    def area(self):\n",
    "        return self.b * self.h / 2\n",
    "\n",
    "    def perimeter(self):\n",
    "        return self.a + self.b + self.c\n",
    "\n",
    "triangle=Triangle(5,2,5,4,5) \n",
    "\n",
    "print(f\"Area del triangolo: {triangle.area()}\")\n",
    "print(f\"Perimetro del triangolo: {triangle.perimeter()}\")\n",
    "print(triangle)"
   ]
  },
  {
   "cell_type": "markdown",
   "metadata": {},
   "source": [
    "Con Python possiamo anche sovrascrivere le funzioni built-in per un'oggetto utilizzzndo appositi metodi. Ad esempio redifinire la funzione print possiamo utilizzare il petodo repr che restituisce una string contenente la rappresentazione stampabile di un oggetto."
   ]
  },
  {
   "cell_type": "code",
   "execution_count": null,
   "metadata": {},
   "outputs": [],
   "source": [
    "class Triangle:\n",
    "    def __init__(self, a,b,c,h) -> None:\n",
    "        self.a,self.b,self.c,self.h=a,b,c,h\n",
    "\n",
    "    def area(self):\n",
    "        return float(self.b)*float(self.h)/2.\n",
    "\n",
    "    def perimeter(self):\n",
    "        return self.a+self.b+self.c\n",
    "\n",
    "    def __repr__(self) -> str:\n",
    "        info =f\"Area del triangolo {self.area()}\"\n",
    "        info+=f\"\\nPerimetro del triangolo: {self.perimeter()}\""
   ]
  }
 ],
 "metadata": {
  "kernelspec": {
   "display_name": "Python 3",
   "language": "python",
   "name": "python3"
  },
  "language_info": {
   "name": "python",
   "version": "3.8.10"
  }
 },
 "nbformat": 4,
 "nbformat_minor": 2
}
