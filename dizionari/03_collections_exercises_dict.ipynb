{
  "nbformat": 4,
  "nbformat_minor": 0,
  "metadata": {
    "colab": {
      "provenance": []
    },
    "kernelspec": {
      "display_name": "Python 3",
      "language": "python",
      "name": "python3"
    },
    "language_info": {
      "codemirror_mode": {
        "name": "ipython",
        "version": 3
      },
      "file_extension": ".py",
      "mimetype": "text/x-python",
      "name": "python",
      "nbconvert_exporter": "python",
      "pygments_lexer": "ipython3",
      "version": "3.7.4"
    }
  },
  "cells": [
    {
      "cell_type": "markdown",
      "metadata": {
        "id": "YGbAWvI8o3ob"
      },
      "source": [
        "# Esercizi con i dizionari #1"
      ]
    },
    {
      "cell_type": "markdown",
      "source": [
        "### 1) Media voti di uno studente\n",
        "Supponiamo di dover gestire i voti di uno studente in diverse materie.\n",
        "\n",
        "Utilizza un dizionario per memorizzare i voti dello studente, come chiave la materia e come valore il voto.\n",
        "\n",
        "Il programma chiede all'utente di inserire i voti per ciascuna materia e alla fine dell'inserimento calcola la media dei voti utilizzando una funzione.\n"
      ],
      "metadata": {
        "id": "OM0bbmoOA0_y"
      }
    },
    {
      "cell_type": "code",
      "source": [
        "# Esempio\n",
        "voti={'italiano':7,'storia':5,'tpsi':6}"
      ],
      "metadata": {
        "colab": {
          "base_uri": "https://localhost:8080/"
        },
        "id": "Qp3WAXabBTIB",
        "outputId": "7bc7aaa9-9c1d-4dea-f0da-f731dab3354a"
      },
      "execution_count": null,
      "outputs": [
        {
          "output_type": "stream",
          "name": "stdout",
          "text": [
            "Inserisci il nome dello studente: Mario\n",
            "Inserisci il nome della materia (o 'fine' per terminare): italiano\n",
            "Inserisci il voto di italiano: 7\n",
            "Inserisci il nome della materia (o 'fine' per terminare): storia\n",
            "Inserisci il voto di storia: 5\n",
            "Inserisci il nome della materia (o 'fine' per terminare): tpsi\n",
            "Inserisci il voto di tpsi: 6\n",
            "Inserisci il nome della materia (o 'fine' per terminare): fine\n",
            "\n",
            "Voti di Mario:\n",
            "- italiano: 7\n",
            "- storia: 5\n",
            "- tpsi: 6\n",
            "\n",
            "Media voti di Mario: 6.0\n"
          ]
        }
      ]
    },
    {
      "cell_type": "markdown",
      "metadata": {
        "id": "jJM__tM4zjsy"
      },
      "source": [
        "### 2) Media voti di N studenti  \n",
        "1.Creare un dizionario di N studenti.<br>\n",
        "Ogni elemento del dizionario contiene come chiave il nome dello studente e come valore una lista di tre numeri, cioè i voti in [Matematica, Fisica e Chimica].<br>\n",
        "2.Inserendo il nome di uno studente, il programma restituisce in output la media dei suoi voti (arrotandata a due cifre dopo la virgola).\n"
      ]
    },
    {
      "cell_type": "code",
      "source": [
        "# Esempio\n",
        "voti={'Mario':[7,8,9],'Pietro':[4,5,6]}"
      ],
      "metadata": {
        "colab": {
          "base_uri": "https://localhost:8080/"
        },
        "id": "QD1Bb2gQDd75",
        "outputId": "e631e174-e02b-4249-b9de-2b459d348e88"
      },
      "execution_count": null,
      "outputs": [
        {
          "output_type": "stream",
          "name": "stdout",
          "text": [
            "Inserisci il numero di studenti: 2\n",
            "Inserisci il nome dello studente: Mario\n",
            "Inserisci il voto in Matematica: 7\n",
            "Inserisci il voto in Fisica: 8\n",
            "Inserisci il voto in Chimica: 9\n",
            "Inserisci il nome dello studente: Pietro\n",
            "Inserisci il voto in Matematica: 4\n",
            "Inserisci il voto in Fisica: 5\n",
            "Inserisci il voto in Chimica: 6\n",
            "Inserisci il nome dello studente di cui vuoi calcolare la media: Pietro\n",
            "La media dei voti di Pietro è: 5.0\n"
          ]
        }
      ]
    }
  ]
}