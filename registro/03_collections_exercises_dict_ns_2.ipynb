{
  "cells": [
    {
      "cell_type": "markdown",
      "metadata": {
        "id": "9nHdhW-oSOhw"
      },
      "source": [
        "## 1. Pagelle scolastiche\n",
        "Creiamo una struttura dati in grado di contenere la registrazione dei voti di diversi studenti. La struttura sarà composta da un dizionario, avente come chiave il nome dello studente e come valore una lista di tuple. Ogni tupla rappresenta i dati relativi ad una materia, ed ha nella prima posizione il nome della materia, nella seconda il voto e nella terza le ore di assenza.\n",
        "<table>\n",
        "    <tr><td>Studente</td><td>Matematica</td><td>Italiano</td><td>Inglese</td><td>Storia</td><td>Geografia</td></tr>\n",
        "    <tr><td>Giuseppe Gullo</td><td>VOTO: 9, ASSENZE: 0</td><td>VOTO: 7, ASSENZE: 3</td><td>VOTO: 7.5, ASSENZE: 4</td><td>VOTO: 7.5, ASSENZE: 4</td><td>VOTO: 5, ASSENZE: 7</td></tr>\n",
        "    <tr><td>Antonio Barbera</td><td>VOTO: 8, ASSENZE: 1</td><td>VOTO: 6, ASSENZE: 1</td><td>VOTO: 9.5, ASSENZE: 0</td><td>VOTO: 8, ASSENZE: 2</td><td>VOTO: 8, ASSENZE: 1</td></tr>\n",
        "    <tr><td>Nicola Spina</td><td>VOTO: 7.5, ASSENZE: 2</td><td>VOTO: 6, ASSENZE: 2</td><td>VOTO: 4, ASSENZE: 3</td><td>VOTO: 8.5, ASSENZE: 2</td><td>VOTO: 8, ASSENZE: 2</td></tr></table>\n",
        "\n",
        "1. Popola la struttura dati con i dati qui sopra.\n",
        "2. Aggiungi alla struttura dati la pagella di un nuovo studente chiamato Albert Einstein, con 10 in tutte le materie e nessu na ora di assenza.\n",
        "3. Aggiungi Fisica a tutte le pagelle con le seguenti votazioni/assenze: Giuseppe Gullo 9.5/0, Antonino Barbera 8/1, Nicola Spina 8/3, Albert Einstein 10/0.\n",
        "4. Stampa la tupla con le informazioni sulla materia Matematica per Giuseppe Gullo\n",
        "5. Stampa la tupla con le informazioni sulla materia Inglese per Nicola Spina\n",
        "6. Stampa solo il voto di Antonio Barbera in Geografia.\n",
        "7. Stampa la media di tutte le materie di Nicola Spina.\n",
        "8. Stampa la media di tutti i voti senza distinguere gli studenti.\n",
        "9. Stampa la materia in cui ha fatto più assenze lo studente Nicola Spina.\n",
        "\n"
      ]
    }
  ],
  "metadata": {
    "colab": {
      "provenance": []
    },
    "kernelspec": {
      "display_name": "Python 3",
      "name": "python3"
    },
    "language_info": {
      "name": "python"
    }
  },
  "nbformat": 4,
  "nbformat_minor": 0
}
