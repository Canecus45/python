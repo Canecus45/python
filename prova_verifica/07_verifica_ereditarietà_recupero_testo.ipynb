{
  "cells": [
    {
      "cell_type": "markdown",
      "metadata": {
        "id": "AQZ3EdiHv43l"
      },
      "source": [
        "# Gestione concessionaria multimarche per la vendita di automobili e moto usate\n",
        "\n",
        "\n",
        "Una concessionaria multimarche che vende veicoli esclusivamente Automobili e Moto vuole gestire in modo automatizzato la contabilità della propria attività.\n",
        "\n",
        "La concessionaria vuole gestire le diverse vendite che vengono effettuate periodicamente.\n",
        "\n",
        "Le vendite giornaliere sono composte da una lista di veicoli che possono riguardare quantitativi di automobili e motocicli differenti (es. 3 automobili, 2 motocicli).\n",
        "\n",
        "Gli addetti alle vendite della concessionaria vogliono poter conoscere:\n",
        "\n",
        "1.   Per un vendita giornaliera : il numero di veicoli venduti e l'importo totale senza distinguere il tipo di veicolo\n",
        "2.   Per un ogni vendita giornaliera : il dettaglio dei veicoli, l'incasso totale, l'incasso totale per tipologia di veicolo (automobili  e motocicli)\n",
        "3.   Per tutti gli ordini del negozio il dettaglio degli veicoli, l'importo totale, l'importo delle automobili e l'importo dei motocicli.  \n",
        "\n",
        "\n",
        "\n",
        "```\n",
        "# Definire una classe base Veicolo (dalla quale derivare le classi Automobile, Motocicli)\n",
        "Definire una classe Vendita, che conterrà gli oggetti di tipo Automobile, Motocicli\n",
        "Definire una classe Vendite, che conterrà gli oggetti di tipo Vendita.\n",
        "Implementare i diversi metodi indicati\n",
        "```\n",
        "\n"
      ]
    },
    {
      "cell_type": "code",
      "execution_count": null,
      "metadata": {
        "id": "yhIaJdEBw08f"
      },
      "outputs": [],
      "source": [
        "class Veicolo:\n",
        "  def __init__(self, codice, marca, modello,prezzo, annoRevisione):\n",
        "    #1 Implementa il costruttore\n",
        "    pass\n",
        "\n",
        "\n",
        "\n",
        "  def scheda_veicolo(self):\n",
        "    #2 Ritorna una stringa contenente gli attributi del veicolo\n",
        "    pass\n",
        "\n",
        "\n",
        "  def modifica_scheda(self):\n",
        "    #3 Permette di modificare gli attributi del veicolo\n",
        "    pass\n",
        "\n"
      ]
    },
    {
      "cell_type": "code",
      "execution_count": null,
      "metadata": {
        "id": "8GWptr480irW"
      },
      "outputs": [],
      "source": [
        "class Automobile(Veicolo):\n",
        "    def __init__(self, codice, marca, modello,prezzo, annoRevisione,lunghezza,larghezza):\n",
        "      #4 Implementa il costruttore\n",
        "      pass\n",
        "\n",
        "\n",
        "    def scheda_veicolo(self):\n",
        "      #5 Ritorna una stringa contenente gli attributi dell'automobile\n",
        "      pass\n",
        "\n",
        "\n"
      ]
    },
    {
      "cell_type": "code",
      "execution_count": null,
      "metadata": {
        "id": "GLmqN7J51iJt"
      },
      "outputs": [],
      "source": [
        "\n",
        "class Motociclo(Veicolo):\n",
        "  def __init__(self, codice, marca, modello,prezzo, annoRevisione,tipo,potenza):\n",
        "    #6 Implementa il costruttore\n",
        "    pass\n",
        "\n",
        "\n",
        "  def scheda_veicolo(self):\n",
        "    #7 Ritorna una stringa contenente gli attributi del motociclo\n",
        "    pass\n",
        "\n",
        "\n"
      ]
    },
    {
      "cell_type": "code",
      "execution_count": null,
      "metadata": {
        "colab": {
          "base_uri": "https://localhost:8080/"
        },
        "id": "_JIUPahOqSJp",
        "outputId": "e987332c-fef4-44e9-add0-101123b70fda"
      },
      "outputs": [
        {
          "name": "stdout",
          "output_type": "stream",
          "text": [
            "Codice veicolo: 1\n",
            " Marca:Audi\n",
            " Modello: Audi Q3\n",
            " Prezzo: 25000\n",
            " Anno Revisione: 2015\n",
            " Lunghezza: 4.5\n",
            " Larghezza: 1.85\n"
          ]
        }
      ],
      "source": [
        "a1 = Automobile(1,\"Audi\",\"Audi Q3\",25000,2015,4.5,1.85)\n",
        "print(a1.scheda_veicolo())\n"
      ]
    },
    {
      "cell_type": "code",
      "execution_count": null,
      "metadata": {
        "colab": {
          "base_uri": "https://localhost:8080/"
        },
        "id": "BvBZ0eVNvHcK",
        "outputId": "6ad5db34-980b-4832-db88-ae5d2cdf36a3"
      },
      "outputs": [
        {
          "name": "stdout",
          "output_type": "stream",
          "text": [
            "Cosa vuoi modificare? 1-Codice 2-Marca 3-Modello 4-Prezzo 5-Anno revisione4\n",
            "Inserire prezzo: 23000\n",
            "Codice veicolo: 1\n",
            " Marca:Audi\n",
            " Modello: Audi Q3\n",
            " Prezzo: 23000\n",
            " Anno Revisione: 2015\n",
            " Lunghezza: 4.5\n",
            " Larghezza: 1.85\n"
          ]
        }
      ],
      "source": [
        "a1.modifica_scheda()\n",
        "print(a1.scheda_veicolo())"
      ]
    },
    {
      "cell_type": "code",
      "execution_count": null,
      "metadata": {
        "id": "1enH-TVv10EH"
      },
      "outputs": [],
      "source": [
        "class Vendita():\n",
        "  def __init__(self,codice,data, codiceVenditore):\n",
        "    #8 Implementa il costruttore\n",
        "    pass\n",
        "\n",
        "\n",
        "  def aggiungi_veicolo(self,veicolo):\n",
        "    if isinstance(veicolo,Automobile):\n",
        "      tipo_veicolo=\"automobile\"\n",
        "\n",
        "    elif isinstance(veicolo,Motociclo):\n",
        "      tipo_veicolo=\"motociclo\"\n",
        "    #9 Completa il metodo aggiungendo l'oggetto alla lista e stampando il messaggio opportuno\n",
        "\n",
        "\n",
        "  def rimuovi_veicolo(self,veicolo):\n",
        "    #10 Implementa il metodo\n",
        "\n",
        "\n",
        "\n",
        "\n",
        "  def importo_vendita(self):\n",
        "    #11 Stampa il numero di veicoli e l'importo totale della vendita giornaliera\n",
        "    pass\n",
        "\n",
        "\n",
        "  def dettaglio_vendita(self):\n",
        "    #12 Stampa il dettaglio della vendita e restituisce una lista contenente\n",
        "    # [somma importi automobili, somma importi motocicli, somma importi totali, provvigione ]\n",
        "    # e il totale della provvigione spettante al venditore sapendo che:\n",
        "    # per automobili la provvigione spettante è il 3% del prezzo di vendita\n",
        "    # per motocicli la provvigione spettante è il 2% del prezzo di vendita\n",
        "    #...\n",
        "\n",
        "\n",
        "\n",
        "\n",
        "\n",
        "    return([sommaA,sommaM,sommaA+sommaM,provvigione])\n",
        "\n",
        "\n"
      ]
    },
    {
      "cell_type": "code",
      "execution_count": null,
      "metadata": {
        "id": "64oNJxy8xoz-"
      },
      "outputs": [],
      "source": [
        "a2 = Automobile(2,\"Peugeot\",\"Peugeot 2008\",18000,2014,4.2,1.75)\n",
        "m1 = Motociclo(3,\"Gilera\",\"Gilera Runner 50\",3500,2016,\"Scooter\",1200)\n",
        "m2 = Motociclo(4,\"Honda\",\"SW-T 400 – 2013\",4500,2012,\"Super Sport\",1000)"
      ]
    },
    {
      "cell_type": "code",
      "execution_count": null,
      "metadata": {
        "colab": {
          "base_uri": "https://localhost:8080/"
        },
        "id": "jtQYjBIJzElB",
        "outputId": "96fbb940-fa85-4758-86da-7272caec8a91"
      },
      "outputs": [
        {
          "name": "stdout",
          "output_type": "stream",
          "text": [
            "automobile aggiunto alla vendita 1 del 01/04/2022\n",
            "automobile aggiunto alla vendita 1 del 01/04/2022\n",
            "motociclo aggiunto alla vendita 1 del 01/04/2022\n",
            "motociclo aggiunto alla vendita 1 del 01/04/2022\n"
          ]
        }
      ],
      "source": [
        "vendita1=Vendita(1,\"01/04/2022\",'123')\n",
        "vendita1.aggiungi_veicolo(a1)\n",
        "vendita1.aggiungi_veicolo(a2)\n",
        "vendita1.aggiungi_veicolo(m1)\n",
        "vendita1.aggiungi_veicolo(m2)\n"
      ]
    },
    {
      "cell_type": "code",
      "execution_count": null,
      "metadata": {
        "id": "19jVOWzy0XzX"
      },
      "outputs": [],
      "source": [
        "vendita1.rimuovi_veicolo(m2)\n",
        "vendita1.rimuovi_veicolo(m2)\n"
      ]
    },
    {
      "cell_type": "code",
      "execution_count": null,
      "metadata": {
        "colab": {
          "base_uri": "https://localhost:8080/"
        },
        "id": "t5VmpBnJ2huw",
        "outputId": "761a89bc-6c76-4670-8895-05bac294b293"
      },
      "outputs": [
        {
          "name": "stdout",
          "output_type": "stream",
          "text": [
            "Importo vendita con codice 1 contenente 3 veicolo/i = 44500\n"
          ]
        }
      ],
      "source": [
        "#13 Risposta al Punto 1 : Per una vendita: 'importo totale senza distinguere il tipo di veicolo\n",
        "\n",
        "vendita1.importo_vendita()"
      ]
    },
    {
      "cell_type": "code",
      "execution_count": null,
      "metadata": {
        "colab": {
          "base_uri": "https://localhost:8080/"
        },
        "id": "GL_SfcWxIOI1",
        "outputId": "49ee9959-2122-491c-c98a-7f69a139be29"
      },
      "outputs": [
        {
          "name": "stdout",
          "output_type": "stream",
          "text": [
            "Veicolo  automobile\n",
            "Codice veicolo: 1\n",
            " Marca:Audi\n",
            " Modello: Audi Q3\n",
            " Prezzo: 23000\n",
            " Anno Revisione: 2015\n",
            " Lunghezza: 4.5\n",
            " Larghezza: 1.85\n",
            "Veicolo  automobile\n",
            "Codice veicolo: 2\n",
            " Marca:Peugeot\n",
            " Modello: Peugeot 2008\n",
            " Prezzo: 18000\n",
            " Anno Revisione: 2014\n",
            " Lunghezza: 4.2\n",
            " Larghezza: 1.75\n",
            "Veicolo  motociclo\n",
            "Codice veicolo: 3\n",
            " Marca:Gilera\n",
            " Modello: Gilera Runner 50\n",
            " Prezzo: 3500\n",
            " Anno Revisione: 2016\n",
            " tipo: Scooter\n",
            " Potenza: 120\n",
            "--------------------------\n",
            "\n",
            "Importo Automobili= 41000\n",
            "\n",
            "Importo Motocicli= 3500\n",
            "\n",
            "Importo Totale= 44500\n",
            "\n",
            "Importo Provvigione= 1300.0\n"
          ]
        }
      ],
      "source": [
        "#14 Risposta punto 2.   Per una ogni vendita: l'importo totale,\n",
        "# l'importo delle automobili, l'importo dei motocicli e il totale della provvigione.\n",
        "importi=vendita1.dettaglio_vendita()\n",
        "print(\"--------------------------\")\n",
        "print(f\"\\nImporto Automobili= {importi[0]}\")\n",
        "print(f\"\\nImporto Motocicli= {importi[1]}\")\n",
        "print(f\"\\nImporto Totale= {importi[2]}\")\n",
        "print(f\"\\nImporto Provvigione= {importi[3]}\")\n",
        "\n"
      ]
    },
    {
      "cell_type": "code",
      "execution_count": null,
      "metadata": {
        "id": "pPS8VRFE13KC"
      },
      "outputs": [],
      "source": [
        "class Vendite():\n",
        "  def __init__(self,nome_negozio,codice_negozio):\n",
        "    #16 Implementa il costruttore\n",
        "\n",
        "\n",
        "  def aggiungi_vendita(self,vendita):\n",
        "    #17 Implementa il metodo\n",
        "\n",
        "\n",
        "  def rimuovi_vendita(self,vendita):\n",
        "    #18 Implementa il metodo\n",
        "\n",
        "\n",
        "  def totale_vendite(self):\n",
        "    #19 Implementa il metodo\n",
        "    #...\n",
        "\n",
        "\n",
        "\n",
        "    return ([totA,totM,tot])\n",
        "\n"
      ]
    },
    {
      "cell_type": "code",
      "execution_count": null,
      "metadata": {
        "id": "0XDiVxn7M88-"
      },
      "outputs": [],
      "source": [
        "vendite_negozio=Vendite(\"Concessionaria Magenta \",1)\n",
        "vendite_negozio.aggiungi_vendita(vendita1)\n",
        "vendite_negozio.rimuovi_vendita(vendita1)\n",
        "vendite_negozio.rimuovi_vendita(vendita1)"
      ]
    },
    {
      "cell_type": "code",
      "execution_count": null,
      "metadata": {
        "id": "hdCwKlv2N16p"
      },
      "outputs": [],
      "source": [
        "vendite_negozio.aggiungi_vendita(vendita1)"
      ]
    },
    {
      "cell_type": "code",
      "execution_count": null,
      "metadata": {
        "id": "dAtZXtiSM83Q"
      },
      "outputs": [],
      "source": [
        "a3 = Automobile(5,\"Renault\",\"Renault Clio\",12000,2020,3.2,1.55)\n",
        "\n",
        "m3 =  Motociclo(6,\"Honda\",\"SW-T 500\",5500,2021,\"Sport\",1200)\n",
        "vendita2=Vendita(2,\"2/04/2022\",'234')\n",
        "vendita2.aggiungi_veicolo(a3)\n",
        "vendita2.aggiungi_veicolo(m3)\n"
      ]
    },
    {
      "cell_type": "code",
      "execution_count": null,
      "metadata": {
        "id": "k3zRLdbzOwf5"
      },
      "outputs": [],
      "source": [
        "vendite_negozio.aggiungi_vendita(vendita2)"
      ]
    },
    {
      "cell_type": "code",
      "execution_count": null,
      "metadata": {
        "id": "O1yTesXNO6VI"
      },
      "outputs": [],
      "source": [
        "# 20 Riposta punto 3: Per tutti le vendite della concessionaria mostra\n",
        "# il dettaglio dei veicoli, l'importo totale,\n",
        "# l'importo delle automobili e l'importo dei motocicli.\n",
        "importiTotali=vendite_negozio.totale_vendite()\n",
        "print(\"--------------------------\")\n",
        "print(f\"\\nImporto totale automobili= {importiTotali[0]}\")\n",
        "print(f\"\\nImporto totale motocilci= {importiTotali[1]}\")\n",
        "print(f\"\\nImporto totale di tutte le vendite= {importiTotali[2]}\")"
      ]
    }
  ],
  "metadata": {
    "colab": {
      "provenance": []
    },
    "kernelspec": {
      "display_name": "Python 3",
      "name": "python3"
    },
    "language_info": {
      "name": "python"
    }
  },
  "nbformat": 4,
  "nbformat_minor": 0
}
