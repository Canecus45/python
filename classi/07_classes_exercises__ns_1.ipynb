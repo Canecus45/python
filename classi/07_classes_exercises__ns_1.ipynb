{
  "cells": [
    {
      "cell_type": "markdown",
      "metadata": {
        "id": "wflZvedQCLBJ"
      },
      "source": [
        "# Esercizi con le Classi #1"
      ]
    },
    {
      "cell_type": "markdown",
      "metadata": {
        "id": "cSxUoawZD8Oh"
      },
      "source": [
        "## 1. La Circonferenza\n",
        "Definisci una classe per rappresentare una circonferenza che, prendendo in input il raggio, definisca dei metodi per il calcolo di diametro, circonferenza e area. Documenta i metodi utilizzando le Docstring."
      ]
    },
    {
      "cell_type": "code",
      "execution_count": null,
      "metadata": {
        "colab": {
          "base_uri": "https://localhost:8080/"
        },
        "id": "FRyH66-6kjXG",
        "outputId": "993b46c9-def7-4d9f-85a9-b864efae190c"
      },
      "outputs": [
        {
          "name": "stdout",
          "output_type": "stream",
          "text": [
            "diametro del raggio: 6.0\n",
            "Area del cerchio: 28.274333882308138\n",
            "Perimetro del cerchio: 18.84955592153876\n",
            "Help on Circonferenza in module __main__ object:\n",
            "\n",
            "class Circonferenza(builtins.object)\n",
            " |  Circonferenza(r)\n",
            " |  \n",
            " |  questa classe rappresenta una circonferenza\n",
            " |  \n",
            " |  Methods defined here:\n",
            " |  \n",
            " |  __init__(self, r)\n",
            " |      Initialize self.  See help(type(self)) for accurate signature.\n",
            " |  \n",
            " |  area(self)\n",
            " |      Calcolo dell'area della circonferenza\n",
            " |  \n",
            " |  diametro(self)\n",
            " |      Calcolo del diametro\n",
            " |  \n",
            " |  perimeter(self)\n",
            " |      Calcolo del perimetro della circonferenza\n",
            " |  \n",
            " |  ----------------------------------------------------------------------\n",
            " |  Data descriptors defined here:\n",
            " |  \n",
            " |  __dict__\n",
            " |      dictionary for instance variables (if defined)\n",
            " |  \n",
            " |  __weakref__\n",
            " |      list of weak references to the object (if defined)\n",
            "\n"
          ]
        }
      ],
      "source": [
        "import math\n",
        "class Circonferenza:\n",
        "  \"\"\"\n",
        "  questa classe rappresenta una circonferenza\n",
        "  \"\"\"\n",
        "#output da produrre\n"
      ]
    },
    {
      "cell_type": "code",
      "execution_count": null,
      "metadata": {},
      "outputs": [],
      "source": [
        "class Circonferenza(__builtins__.r):\n",
        "\n",
        "    def __init__(self, r):\n",
        "        self.r=r\n",
        "\n",
        "    def diametro(self):\n",
        "        return(self.r*2)\n",
        "    def circonferenza(self):\n",
        "        return self.r*2*3.14\n",
        "    def area(self):\n",
        "        return self.r*3.14"
      ]
    },
    {
      "cell_type": "code",
      "execution_count": null,
      "metadata": {},
      "outputs": [],
      "source": [
        "import math\n",
        "\n",
        "raggio=int(input(\"Inserire il raggio:\\n>\"))\n",
        "print(Circonferenza.circonferenza(raggio))\n",
        "print(Circonferenza.diametro(raggio))\n",
        "print(Circonferenza.area(raggio))\n"
      ]
    },
    {
      "cell_type": "markdown",
      "metadata": {
        "id": "jfRDGgWYu29v"
      },
      "source": [
        "##2.Macchine\n",
        "\n",
        "Creare una classe per rappresentare una macchina (marca,modello,colore,anno, targa), avente anche il dunder method **\\_\\_str\\_\\_(self)** che restituisce una stringa ottenuta concatenando tutti gli attributi dell'oggetto. Crea un oggetto, assegna dei valori e visualizzali utilizzando il metodo print(oggetto)  "
      ]
    },
    {
      "cell_type": "code",
      "execution_count": null,
      "metadata": {
        "colab": {
          "base_uri": "https://localhost:8080/"
        },
        "id": "ekIPaqxPue3D",
        "outputId": "04a79d06-2cb4-40c2-a963-e143c2ecd119"
      },
      "outputs": [
        {
          "name": "stdout",
          "output_type": "stream",
          "text": [
            "(John,Doe,25)\n"
          ]
        }
      ],
      "source": [
        "#esempio\n",
        "class Person:\n",
        "    def __init__(self, first_name, last_name, age):\n",
        "        self.first_name = first_name\n",
        "        self.last_name = last_name\n",
        "        self.age = age\n",
        "\n",
        "    def __str__(self):\n",
        "        return f'({self.first_name},{self.last_name},{self.age})'\n",
        "\n",
        "person = Person('John', 'Doe', 25)\n",
        "# use str()\n",
        "print(person)\n"
      ]
    },
    {
      "cell_type": "code",
      "execution_count": null,
      "metadata": {},
      "outputs": [],
      "source": [
        "class Macchina:\n",
        "    def __init__(self, marca, modello, colore, anno, targa) -> None:\n",
        "        self.marca = marca\n",
        "        self.modello = modello\n",
        "        self.colore = colore\n",
        "        self.anno = anno\n",
        "        self.targa = targa\n",
        "\n",
        "    def __str__(self) -> str:\n",
        "        print(f\"Marca: {self.marca} modello: {self.modello} colore: {self.colore} anno: {self.anno} targa: {self.targa}\")\n",
        "marca=input(\"Inseire la marca:\\n>\")\n",
        "modello=input(\"Inseire il modello:\\n>\")\n",
        "colore=input(\"Inseire il colore:\\n>\")\n",
        "anno=input(\"Inseire l'anno di immatricolazione:\\n>\")\n",
        "targa=input(\"Inseire la targa:\\n>\")\n",
        "\n",
        "print(Macchina.__str__(marca,modello,colore,anno,targa))"
      ]
    },
    {
      "cell_type": "markdown",
      "metadata": {
        "id": "WLP6y_hkvNy_"
      },
      "source": [
        "##3.Macchine\n",
        "\n",
        "Crea una lista di oggetti macchina (marca,modello,colore,anno, targa), inserisci n oggetti, visualizzali uno ad uno tramite un ciclo."
      ]
    },
    {
      "cell_type": "code",
      "execution_count": null,
      "metadata": {},
      "outputs": [],
      "source": [
        "\n",
        "n=int(input(\"Inserire il numero di cicli:\\n>\"))\n",
        "\n",
        "for i in n:\n",
        "    marca=input(\"Inseire la marca:\\n>\")\n",
        "    modello=input(\"Inseire il modello:\\n>\")\n",
        "    colore=input(\"Inseire il colore:\\n>\")\n",
        "    anno=input(\"Inseire l'anno di immatricolazione:\\n>\")\n",
        "    targa=input(\"Inseire la targa:\\n>\")\n",
        "\n",
        "    print(Macchina.__str__(marca,modello,colore,anno,targa))"
      ]
    },
    {
      "cell_type": "markdown",
      "metadata": {
        "id": "ofCbo2lCvdmR"
      },
      "source": [
        "##4.Macchine\n",
        "\n",
        "Crea una classe Garage che preveda i seguenti metodi (espressi in javascript):\n",
        "```\n",
        "function Garage(){\n",
        "this.macchine = new Array(); //array di macchine\n",
        "this.push = function (macchina); //inserisce un oggetto\n",
        "this.pop = function (); //estrae l'ultimo oggetto inserito\n",
        "this.remove = function (targa); //rimuove la macchina indicata\n",
        "this.cercaMacchina = function (targa); //verifica se una macchina è presente\n",
        "}\n",
        "```\n",
        "Implementa nella classe il dunder method **\\_\\_str(self)\\_\\_** per stampare come stringa tutto il contenuto della lista che contiene le macchine.\n",
        "\n",
        "Inserisci delle macchine nel Garage e testa le diverse funzioni dell'oggetto"
      ]
    }
  ],
  "metadata": {
    "colab": {
      "provenance": []
    },
    "kernelspec": {
      "display_name": "Python 3",
      "language": "python",
      "name": "python3"
    },
    "language_info": {
      "codemirror_mode": {
        "name": "ipython",
        "version": 3
      },
      "file_extension": ".py",
      "mimetype": "text/x-python",
      "name": "python",
      "nbconvert_exporter": "python",
      "pygments_lexer": "ipython3",
      "version": "3.5.2"
    }
  },
  "nbformat": 4,
  "nbformat_minor": 0
}
