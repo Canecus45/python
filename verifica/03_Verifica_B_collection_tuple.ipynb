{
  "cells": [
    {
      "cell_type": "markdown",
      "metadata": {
        "id": "kLhZw8PksOgi"
      },
      "source": [
        "# Esercizio n. 1 - Vendite di ogni reparto\n",
        "\n",
        "Supponiamo di avere una tupla contenente i dati delle vendite  mensili suddivise per reparto\n",
        "Ogni voce nella tupla è strutturata nel seguente modo:\n"
      ]
    },
    {
      "cell_type": "code",
      "execution_count": null,
      "metadata": {
        "id": "o3SO9HqJre7M"
      },
      "outputs": [],
      "source": [
        "(\"reparto\", [(\"mese1\", 0),(\"mese2\", 0), ])"
      ]
    },
    {
      "cell_type": "markdown",
      "metadata": {
        "id": "6fOTZNr_ueSQ"
      },
      "source": [
        "Dove :\n",
        "\n",
        "*   \"reparto\" rappresenta il nome del reparto\n",
        "*   \"meseX\" indica il mese di riferimento\n",
        "*   \"valoreX\" indica l' ammontare delle vendite del meseX.\n",
        "Si potrebbe verificare la situazione N/D (indica valore non disponibile)\n",
        "\n",
        "\n",
        "\n",
        "\n",
        "\n"
      ]
    },
    {
      "cell_type": "markdown",
      "metadata": {
        "id": "Ui5lzq_OtqgD"
      },
      "source": [
        "Per calcolare l'ammontare medio delle vendite di un reparto definisci una funzione che riceva come parametro il nome del reparto e restituisca una tupla con questa struttura (ImpMedio,(valoreMax,meseMax),(valoreMin,meseMin)). Dove meseMax e meseMin sono i mesi in cui si sono registrate le vendite maggiori e le vendite  minori.\n",
        "**N.B*:** Nel calcolo della media non includere i mesi per i quale non risulta disponibile il valore.\n",
        "\n",
        "## CASO NON DISPONIBILE NON VA COSIDERATO\n",
        "Ad esempio: (\"repartoA\", [(\"gennaio\", \"N/D\"), (\"febbraio\", 20000), ... , (\"Dicembre\",23000)])\n",
        "\n",
        "La media andrà calcolata su 11 mesi e non su 12.\n",
        "\n",
        "**N.B:**Prevedere la possibilità che la tupla ritornata sia vuota\n",
        "\n"
      ]
    },
    {
      "cell_type": "markdown",
      "metadata": {
        "id": "ZouP0l7iveiU"
      },
      "source": [
        "##Esercizio n.2 -  Rilevazioni pluviometriche\n",
        "\n",
        "Nella tupla_pluviometrica sono memorizzate le rilevazioni pluviometriche di alcune città lombarde. Per ogni rilevazione si riporta: città, provincia, anno,mese e  valore (quantitativo di pioggia in mm).\n",
        "Utilizzare le funzioni predefinite sum,min,max per le liste."
      ]
    },
    {
      "cell_type": "code",
      "execution_count": null,
      "metadata": {
        "id": "h4vZdH8jZIdB"
      },
      "outputs": [],
      "source": [
        "tupla_pluviometrica = (\n",
        "                      ((\"Vittuone\",\"Milano\"),(2022, (\"gennaio\",20))),\n",
        "                      ((\"Vittuone\",\"Milano\"),(2023, (\"marzo\",80))),\n",
        "                      ((\"Vittuone\",\"Milano\"),(2023, (\"aprile\",60))),\n",
        "                      ((\"Vittuone\",\"Milano\"),(2023, (\"maggio\",80))),\n",
        "                      ((\"Vittuone\",\"Milano\"),(2023, (\"luglio\",30))),\n",
        "                      ((\"Vittuone\",\"Milano\"),(2023, (\"agosto\",\"N/D\"))),\n",
        "                      ((\"Varenna\",\"Lecco\"),(2023, (\"luglio\",150))),\n",
        "                      ((\"Morbegno\",\"Sondrio\"),(2023, (\"luglio\",165)))\n",
        "                      )\n"
      ]
    },
    {
      "cell_type": "markdown",
      "metadata": {
        "id": "bdaEtz1jmc7c"
      },
      "source": [
        "\n",
        "Richieste:\n",
        "\n",
        "1. Definire una funzione chiamata **media_globale** che accetti come parametro la tupla delle rilevazioni pluviometriche e restituisca il quantitativo medio di pioggia rilevata nell'anno 2023.\n",
        "\n",
        "2. Definire una funzione chiamata **media** che accetti come parametri la tupla delle rilevazioni pluviometriche, la provincia e il mese di riferimento e restituisca il quantitativo medio di pioggia rilevata.\n",
        "\n",
        "3. Definire una funzione chiamata **pioggiaMax** che restituisca una tupla contenente  la città  e il mese (o i mesi ) più piovoso/i della provincia di Milano.\n",
        "\n",
        "4. Definire una funzione chiamata **pioggiaMin** che restituisca una tupla contenente il mese con minor precipitazioni.\n",
        "\n",
        "## FUNZIONALITA' DA NON SVOGLERE\n",
        "5. Definire una funzione chiamata **provinciaPer** che restituisca una tupla contenente la percentuale delle precipitazioni per provincia rispetto al totale.\n",
        "\n",
        "6. Prevedere un menu di scelta."
      ]
    }
  ],
  "metadata": {
    "colab": {
      "provenance": []
    },
    "kernelspec": {
      "display_name": "Python 3",
      "name": "python3"
    },
    "language_info": {
      "name": "python"
    }
  },
  "nbformat": 4,
  "nbformat_minor": 0
}
