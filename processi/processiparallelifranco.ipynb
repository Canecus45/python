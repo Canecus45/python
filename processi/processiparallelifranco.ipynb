{
 "cells": [
  {
   "cell_type": "markdown",
   "metadata": {},
   "source": [
    "## **1) Processi Totalmente Ignari:**\n",
    "\n",
    "In questo caso, i processi non sono consapevoli l'uno dell'altr oe operano indipendentemente senza alcuna comunicazione diretta o scambio di informazioni. Esempio: Parallelismo di dati.\n",
    "Supponiamo di avere un'immagine divisa in pixel. Ogni processo si occupa di elaborare i dati in un determinato set di pixel senza avere alcuna consapevolezza degli altri processi che elaborano altri pixel."
   ]
  },
  {
   "cell_type": "code",
   "execution_count": null,
   "metadata": {},
   "outputs": [],
   "source": [
    "from multiprocessing import Process\n",
    "\"\"\"\n",
    "multiprocessing è una libreria per la creazione, la comunicazione e la sincronizzazione\n",
    "tra processi nella programmazione parallela e concorrente\n",
    "Process è una classe per creare procesi eseguendo una funzione (o metodo) specificata come target.\n",
    "\"\"\"\n",
    "# Funzione per processare i dati ovvero prendo i dati in ingresso li moltiplico per 2\n",
    "# e li restituisco\n",
    "def process_funcion(data):\n",
    "    result=data*2\n",
    "    print(result)\n",
    "\n",
    "if __name__ == \"__main__\":\n",
    "    data_list= [1, 2, 3, 4]\n",
    "    processes = []\n",
    "\n",
    "    for data in data_list:\n",
    "        p = Process(target=process_funcion, args=(data,))\n",
    "        # aggiungo p alla lista processes \n",
    "        processes.append(p)\n",
    "        p.start() # viene avviata l'esecuzione del processo separato\n",
    "        \n",
    "    for p in processes:\n",
    "        p.join() # blocca il processo principale fino a quando il processo separato non termina"
   ]
  },
  {
   "cell_type": "markdown",
   "metadata": {},
   "source": [
    "## **2) Processi Indireattamente a Conoscenza Uno dell'Altro:**\n",
    "\n",
    "In questo caso, i processi potrebbero non conoscere direttametne gli altri, ma possono interagire attraverso uno scambio indiretto di informazioni, ad esempio, attraveso una strutta dati condivisa o un intermediario. Esempio: Una coda convisa. I processi possono mettere dati in una coda condivisa e prelevarli successivamente. Anche se i processi non conoscono direttamente gli altri processi, condividono una struttura dati (la coda) per scambiare informazioni."
   ]
  },
  {
   "cell_type": "code",
   "execution_count": null,
   "metadata": {},
   "outputs": [],
   "source": [
    "from asyncio import Queue\n",
    "from multiprocessing import Process, current_process, Pipe\n",
    "import os\n",
    "\"\"\"\n",
    "-- Queue: classe che rappresenta una coda condivisa tra procesi.\n",
    "E' utilizzata per consitire la comunicazione tra processi,\n",
    "consentendo loro di scambiarsi dati in modo sicuro.\n",
    "put(item): Aggiunge un elemetno alla coda.\n",
    "get(): Rimuove e restituisce un elemtno dalla coda.\n",
    "empty(): Restituisce True se la coda è vuota, altrimente restitusice False.\n",
    "full(): Restitusce True se la coda è piena, altrimenti restituesce False.\n",
    "qsize(): Restituisce il numero di leemtni presenti nella coda.\n",
    "close(): Chiude l coda.\n",
    "-- curren_process: funzioen che restituisce un oggetto Process\n",
    "che rappresenta il processo in esecuzione.\n",
    "\"\"\"\n",
    "\n",
    "def process_id():\n",
    "    # stampo il pid del server, il nome del processo e il suo pid\n",
    "    print(f\"Server PID: {os.getpid()}, Process Name: {current_process().name}, Process PID: { current_process().pid}\")\n",
    "\n",
    "\n",
    "def process_funcion(data, result_queue):\n",
    "    process_id()\n",
    "    print(\"Elabora: \", data)\n",
    "    result = data * 2\n",
    "    result_queue.put(result)\n",
    "\n",
    "if __name__==\"__main__\":\n",
    "    # si entra nel main\n",
    "    data_list = [1, 2, 3, 4]\n",
    "    # viene creata una lista di dati\n",
    "    result_queue=Queue()\n",
    "    processes = []\n",
    "\n",
    "    for data in data_list:\n",
    "        p= Process(target=process_funcion, args=(data, result_queue))\n",
    "        processes.append(p)\n",
    "        p.start()\n",
    "\n",
    "    for p in processes:\n",
    "        p.join()\n",
    "\n",
    "    print(\"Il main stampa i risultati\")\n",
    "    while not result_queue.empty():\n",
    "        result= result_queue.get()\n",
    "        print(result)"
   ]
  },
  {
   "cell_type": "markdown",
   "metadata": {},
   "source": [
    "## **3) Processi diretatmente a conoscenza:**\n",
    "\n",
    "In questo caso, i processi sono consapevoli l'uno dell'altro e possono comunicare diretamente. Esempio: Comunicazione diretta. I processi comunicano utilizzando messaggi diretti o meccanismi di comunicazione. Ad esempio, uno scenario scambio di dati tra server e clietn o tra processi all'inerno di un applicazion. Adesemipo, uno scenario di scambio did dati tra server e client o processi all'inerno di un'applicazione che utilizza canali di comunicazione diretti."
   ]
  },
  {
   "cell_type": "code",
   "execution_count": null,
   "metadata": {},
   "outputs": [],
   "source": [
    "import os # il modulo fornisce funzionalità per interagire con il sistema operativo\n",
    "from multiprocessing import Process, current_process, Pipe\n",
    "\n",
    "def process_id():\n",
    "    print(f\"Server PID: {os.getpid()}, Process Name: {current_process().name}, Process PID. { current_process().pid}\")\n",
    "\n",
    "def process_funcion(conn):\n",
    "    process_id()\n",
    "    print(\"Elaboro il dato ricevuto ed invio il risultato\")\n",
    "    data_recived = conn.recv()\n",
    "    result = data_recived * 2\n",
    "    conn.send(result)\n",
    "    conn.close()\n",
    "\n",
    "if __name__==\"__main__\":\n",
    "    process_id()\n",
    "    print(\"Creo una connessione e un processo figlio\")\n",
    "    parent_conn, child_conn = Pipe()\n",
    "    data = 5\n",
    "    p = Process(target=process_funcion, args=(child_conn,))\n",
    "    p.start()\n",
    "    parent_conn.send(data)\n",
    "    # result è il risultato che viene preso con recv tramite conn genitore\n",
    "    result = parent_conn.recv()\n",
    "    p.join\n",
    "    print(\"Stampo il risultato ricevuto\")\n",
    "    print(result)"
   ]
  }
 ],
 "metadata": {
  "language_info": {
   "name": "python"
  }
 },
 "nbformat": 4,
 "nbformat_minor": 2
}
