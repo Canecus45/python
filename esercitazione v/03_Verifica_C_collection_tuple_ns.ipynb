{
  "nbformat": 4,
  "nbformat_minor": 0,
  "metadata": {
    "colab": {
      "provenance": []
    },
    "kernelspec": {
      "name": "python3",
      "display_name": "Python 3"
    },
    "language_info": {
      "name": "python"
    }
  },
  "cells": [
    {
      "cell_type": "markdown",
      "source": [
        "## **Esercizio 1**:\n",
        "Supponiamo di avere una tupla contenente i dati di consumo energetico mensile di diverse abitazioni in diverse città. Ogni voce nella tupla è strutturata nel seguente modo:"
      ],
      "metadata": {
        "id": "Gw9c8Jp8PoCZ"
      }
    },
    {
      "cell_type": "code",
      "source": [
        "tupla_consumi_energetici = (\n",
        "    (\"Milano\", [\n",
        "        (\"gennaio\", (\"elettrico\", 300)),\n",
        "        (\"gennaio\", (\"gas\", 150)),\n",
        "        (\"febbraio\", (\"elettrico\", 280)),\n",
        "        (\"febbraio\", (\"gas\", 120)),\n",
        "        # Aggiungi altri mesi e consumi\n",
        "    ]),\n",
        "    (\"Brescia\", [\n",
        "        (\"gennaio\", (\"elettrico\", 280)),\n",
        "        (\"gennaio\", (\"gas\", 140)),\n",
        "        (\"febbraio\", (\"elettrico\", 260)),\n",
        "        (\"febbraio\", (\"gas\", 130)),\n",
        "        # Aggiungi altri mesi e consumi\n",
        "    ]),\n",
        "    # Aggiungi altre città\n",
        ")\n",
        "\n"
      ],
      "metadata": {
        "id": "773DvXNLRp3X"
      },
      "execution_count": null,
      "outputs": []
    },
    {
      "cell_type": "markdown",
      "source": [
        "Definisci una funzione analizza_consumi_energetici che riceva come parametro il nome della città e il nome della risorsa energetica e restituisca una tupla con la seguente struttura:"
      ],
      "metadata": {
        "id": "DHlrMi7jTwzA"
      }
    },
    {
      "cell_type": "code",
      "source": [
        "def analizza_consumi_energetici(citta, risorsa):\n",
        "    # Restituisci una tupla con la seguente struttura\n",
        "    # (media_risorsa, (max_risorsa, meseMax_risorsa)\n",
        "    pass\n",
        "\n",
        "# Esempio di utilizzo\n",
        "risultato_analisi = analizza_consumi_energetici(\"Milano\", \"elettrico\")\n",
        "print(risultato_analisi)\n"
      ],
      "metadata": {
        "colab": {
          "base_uri": "https://localhost:8080/"
        },
        "id": "7GP5g2nrRsdd",
        "outputId": "4f89ddca-c093-4c2c-dd29-72c4e4f7be68"
      },
      "execution_count": null,
      "outputs": [
        {
          "output_type": "stream",
          "name": "stdout",
          "text": [
            "(290.0, (300, 'gennaio'), (280, 'febbraio'))\n"
          ]
        }
      ]
    },
    {
      "cell_type": "markdown",
      "source": [
        "## **Esercizio 2:**\n",
        "Immagina di gestire i risultati di un torneo sportivo attraverso una tupla contenente le informazioni sulle partite. Ogni voce della tupla rappresenta una partita e contiene le seguenti informazioni: squadra di casa, squadra ospite, punteggio della squadra di casa, punteggio della squadra ospite."
      ],
      "metadata": {
        "id": "3_SdTf4wO1c9"
      }
    },
    {
      "cell_type": "code",
      "execution_count": null,
      "metadata": {
        "id": "rchhxfX6Ox5B"
      },
      "outputs": [],
      "source": [
        "tupla_partite = (\n",
        "    (\"SquadraA\", \"SquadraB\", 3, 2),\n",
        "    (\"SquadraC\", \"SquadraD\", 1, 1),\n",
        "    (\"SquadraB\", \"SquadraC\", 2, 4),\n",
        "    (\"SquadraD\", \"SquadraA\", 0, 3),\n",
        "    (\"SquadraB\", \"SquadraD\", 1, 2),\n",
        ")"
      ]
    },
    {
      "cell_type": "markdown",
      "source": [
        "Definisci le seguenti funzioni utilizzando le funzioni predefinite sum, min, max per le liste:\n",
        "\n",
        "1. **media_gol_partite(tupla_partite)**: una funzione che accetti come parametro la tupla delle partite e restituisca la media dei gol segnati in tutte le partite.\n",
        "\n",
        "2. **media_gol_squadra(tupla_partite, squadra)**: una funzione che accetti come parametri la tupla delle partite e il nome di una squadra, e restituisca la media dei gol segnati dalla squadra in tutte le partite in cui ha partecipato.\n",
        "\n",
        "3. **partita_con_piu_gol(tupla_partite)**: una funzione che restituisca una tupla contenente la partita con il maggior numero di gol segnati e i relativi punteggi.\n",
        "\n",
        "4. **partita_con_meno_gol(tupla_partite)**: una funzione che restituisca una tupla contenente la partita con il minor numero di gol segnati e i relativi punteggi.\n",
        "\n",
        "5. **percentuale_vittorie_squadra(tupla_partite, squadra)**: una funzione che restituisca la percentuale di partite vinte dalla squadra rispetto al totale delle partite disputate.\n",
        "\n",
        "6. Prevedi un menu di scelta che consenta all'utente di selezionare un'operazione tra le opzioni disponibili."
      ],
      "metadata": {
        "id": "R-kDuOgSO_XI"
      }
    }
  ]
}